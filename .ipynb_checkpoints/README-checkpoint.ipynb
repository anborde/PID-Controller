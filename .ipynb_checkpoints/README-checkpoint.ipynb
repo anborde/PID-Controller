{
 "cells": [
  {
   "cell_type": "markdown",
   "metadata": {},
   "source": [
    "# PID Project\n",
    "\n",
    "Using a PID controller to control the car and navigate it across the track."
   ]
  },
  {
   "cell_type": "markdown",
   "metadata": {},
   "source": [
    "## Content\n",
    "\n",
    "Some of the important files and folders are listed below:\n",
    "\n",
    "**/src**\n",
    "   - The src folder consists of the following important .cpp files:\n",
    "       - PID.cpp\n",
    "           - implementation of PID controller and the Twiddle algorithm used to optimize the PID parameters\n",
    "       - main.cpp\n",
    "           - main procedure implementation\n",
    "\n",
    "**/Debug**\n",
    "   - This folder consists of executable file **PID.sh** which runs the main procedure of the project\n",
    "\n",
    "**CMakeLists.txt**\n",
    "   - Cmake file to build the project\n",
    "\n",
    "**PID.xcodeproj**\n",
    "   - Xcode IDE project file used to build the project files\n",
    "\n",
    "**/output**\n",
    "   - This folder consists of video outputs for the project"
   ]
  },
  {
   "cell_type": "markdown",
   "metadata": {},
   "source": [
    "## Usage\n",
    "\n",
    "1. In order to run the optimization for the controller change `optimization` variable of PID class value to `1` located at line 50 of main.cpp.\n",
    "2. If you wish to test the PID controller, run the **PID.sh** executable and ensure value of `optimization` variable of PID class is `0` at line 50 of main.cpp.\n",
    "3. Run the simulator and select 'Project 4: PID Controller'.\n",
    "4. The car would drive across the track as per the steering angle specified by the PID controller."
   ]
  },
  {
   "cell_type": "markdown",
   "metadata": {},
   "source": [
    "## Reflections/ Observation\n",
    "\n",
    "* The parameters of PID controller have been trained by Twiddle algorithm and have been fine tuned by some manual adjustments.\n",
    "* In order to run the Twiddle across the entire track is a time and resource consuming process hence we ran the simulator for 1000 steps and fed the error recorded to Twiddle algorithm to optimize the parameters.\n",
    "\n",
    "\n",
    "* With 0.2 as tolerance, we obtained (0.1, 0, 1.82898) as the parameters from the Twidle algorithm. We fine tuned these values to **(0.12, 0, 1.982898)** which provided a satisfactory result.\n",
    "* The result of these parameters can be seen in the video [PID Controller](https://youtu.be/yW2sZmGIpMY).\n",
    "\n",
    "\n",
    "\n",
    "### Effects of P, I and D components \n",
    "**P - component effect**\n",
    "- To study the effect of Propotional component on the bearing of the car we will run the PID project by setting the value of propotional component parameter to 0 and retaining the other values.\n",
    "- As seen in the video [PID Without P Component](https://youtu.be/QEu23lkjXe0), the absense of Propotional component reduces the sensitivity of the car to curves.\n",
    "\n",
    "**I - component effect**\n",
    "- As it is mentioned above that the value of I parameter in optimized values is 0, we can conclude that Integral component has the minimum effect on deciding the bearing of the car.\n",
    "\n",
    "**D - component effect**\n",
    "- To study the effect of Differential component on the bearing of the car we will run the PID controller by setting the value of differential component parameter to 0 and retaining the other values.\n",
    "- As seen in the video [PID Without D Component](https://youtu.be/C_iVKEg9_Rk), tough our car is sensitive to curves, there is considerable loss in the stability of the car and car makes sharp turns from one side of the road to the other.\n"
   ]
  },
  {
   "cell_type": "markdown",
   "metadata": {},
   "source": [
    "## Conclusion\n",
    "- In conclusion we can say that the propotional component helps in providing sensitivity to the curvature of the road as it is directly linked with the cross track error.\n",
    "- Similarily, differential component helps to ease the oscillations of the car by counter steering the car as the error reduces over time.\n",
    "- Integral component is like the correctional component for the PID controller and hence it has the least value in the optimized values of PID parameters.\n",
    "- A right combination of P, I and D provides a smooth control over the car.\n",
    "- But, if we increase the speed of the car, it becomes difficult to control the car with the same parameters. Hence, along with the steering of the car, the throttle needs to be controlled in order to control the car in an orderly manner."
   ]
  }
 ],
 "metadata": {
  "kernelspec": {
   "display_name": "Python 3",
   "language": "python",
   "name": "python3"
  },
  "language_info": {
   "codemirror_mode": {
    "name": "ipython",
    "version": 3
   },
   "file_extension": ".py",
   "mimetype": "text/x-python",
   "name": "python",
   "nbconvert_exporter": "python",
   "pygments_lexer": "ipython3",
   "version": "3.5.2"
  }
 },
 "nbformat": 4,
 "nbformat_minor": 2
}
